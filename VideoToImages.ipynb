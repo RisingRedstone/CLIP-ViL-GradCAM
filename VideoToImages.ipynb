{
 "cells": [
  {
   "cell_type": "code",
   "execution_count": 11,
   "id": "e88afddc-9f8e-4797-a683-a0fabab5f390",
   "metadata": {},
   "outputs": [],
   "source": [
    "import cv2\n",
    "import numpy as np"
   ]
  },
  {
   "cell_type": "code",
   "execution_count": 13,
   "id": "79a60fd6-a3fc-48f0-8e72-e9296f6c2daf",
   "metadata": {},
   "outputs": [],
   "source": [
    "vid_path = '37.mp4'\n",
    "cap = cv2.VideoCapture(vid_path)\n",
    "\n",
    "return_path = \"vids\"\n",
    "count = 0\n",
    "\n",
    "while(cap.isOpened() == True):\n",
    "    ret, frame = cap.read()\n",
    "    if ret == True:\n",
    "        cv2.imwrite(return_path + \"\\\\\" + str(count) + \".jpg\", frame)\n",
    "        count+=1\n",
    "        if cv2.waitKey(25) & 0xFF == ord('q'):\n",
    "          break\n",
    "    \n",
    "    # Break the loop\n",
    "    else: \n",
    "        break"
   ]
  },
  {
   "cell_type": "code",
   "execution_count": 19,
   "id": "1cce95bf-1ba2-4d77-b424-9f33abce0acf",
   "metadata": {},
   "outputs": [],
   "source": [
    "vid_path_ret = 'ExplodeHeat.mp4'\n",
    "img_paths = \"out\"\n",
    "count = 1\n",
    "\n",
    "img = cv2.imread(img_paths + \"\\\\\" + str(count) + \".jpg\" )\n",
    "height, width, layers = img.shape\n",
    "cap1 = cv2.VideoWriter(vid_path_ret, 0, 30, (width, height))\n",
    "while(True):\n",
    "    cap1.write(img)\n",
    "    count += 2\n",
    "    img = cv2.imread(img_paths + \"\\\\\" + str(count) + \".jpg\" )\n",
    "    if(img is None):\n",
    "        break\n",
    "\n",
    "cap1.release()"
   ]
  },
  {
   "cell_type": "code",
   "execution_count": null,
   "id": "cde97483-d9af-41c8-948e-5b0d08037d78",
   "metadata": {},
   "outputs": [],
   "source": []
  }
 ],
 "metadata": {
  "kernelspec": {
   "display_name": "Python 3 (ipykernel)",
   "language": "python",
   "name": "python3"
  },
  "language_info": {
   "codemirror_mode": {
    "name": "ipython",
    "version": 3
   },
   "file_extension": ".py",
   "mimetype": "text/x-python",
   "name": "python",
   "nbconvert_exporter": "python",
   "pygments_lexer": "ipython3",
   "version": "3.10.9"
  }
 },
 "nbformat": 4,
 "nbformat_minor": 5
}
